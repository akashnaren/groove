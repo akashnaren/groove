{
 "cells": [
  {
   "cell_type": "markdown",
   "metadata": {},
   "source": [
    "# COGS 118B - Final Project"
   ]
  },
  {
   "cell_type": "code",
   "execution_count": null,
   "metadata": {},
   "outputs": [],
   "source": [
    "#import packages\n",
    "import pandas as pd\n",
    "import numpy as np\n",
    "import seaborn as sns\n",
    "import matplotlib.pyplot as plt\n",
    "import plotly.express as px\n",
    "\n",
    "from sklearn.preprocessing import StandardScaler"
   ]
  },
  {
   "cell_type": "code",
   "execution_count": null,
   "metadata": {},
   "outputs": [],
   "source": [
    "data = pd.read_csv('CreditCard_dataset.csv')\n",
    "\n",
    "#drop customer ID column\n",
    "data.drop(columns=['CUST_ID'], inplace=True)\n",
    "\n",
    "#replace null values with zeros\n",
    "data['MINIMUM_PAYMENTS'].fillna(0, inplace=True)\n",
    "data"
   ]
  },
  {
   "cell_type": "code",
   "execution_count": null,
   "metadata": {},
   "outputs": [],
   "source": [
    "null_count = data.isna().sum()\n",
    "\n",
    "null_count"
   ]
  },
  {
   "cell_type": "code",
   "execution_count": null,
   "metadata": {},
   "outputs": [],
   "source": [
    "data.dropna(inplace=True)\n",
    "data"
   ]
  },
  {
   "cell_type": "code",
   "execution_count": null,
   "metadata": {},
   "outputs": [],
   "source": [
    "null_count = data.isna().sum()\n",
    "\n",
    "null_count"
   ]
  },
  {
   "cell_type": "code",
   "execution_count": null,
   "metadata": {},
   "outputs": [],
   "source": [
    "data.columns"
   ]
  },
  {
   "cell_type": "code",
   "execution_count": null,
   "metadata": {},
   "outputs": [],
   "source": [
    "corr = data.corr()\n",
    "mask = np.triu(np.ones_like(corr, dtype=bool))\n",
    "sns.heatmap(corr, mask=mask)"
   ]
  },
  {
   "cell_type": "code",
   "execution_count": null,
   "metadata": {},
   "outputs": [],
   "source": [
    "# Set the size of the plot\n",
    "plt.figure(figsize=(10, 6))\n",
    "\n",
    "# Create a histogram for the 'BALANCE' column\n",
    "sns.histplot(data['BALANCE'], bins=30, kde=True)\n",
    "\n",
    "# Add a title and labels to the plot\n",
    "plt.title('Distribution of Customer Balances')\n",
    "plt.xlabel('Balance')\n",
    "plt.ylabel('Frequency')\n",
    "\n",
    "# Display the plot\n",
    "plt.show()"
   ]
  },
  {
   "cell_type": "code",
   "execution_count": null,
   "metadata": {},
   "outputs": [],
   "source": [
    "# Set the size of the plot\n",
    "plt.figure(figsize=(10, 6))\n",
    "\n",
    "# Create a histogram for the 'PAYMENTS' column\n",
    "sns.histplot(data['PAYMENTS'], bins=30, kde=True)\n",
    "\n",
    "# Add a title and labels to the plot\n",
    "plt.title('Distribution of Customer Payments')\n",
    "plt.xlabel('Payments')\n",
    "plt.ylabel('Frequency')\n",
    "\n",
    "# Display the plot\n",
    "plt.show()"
   ]
  },
  {
   "cell_type": "code",
   "execution_count": null,
   "metadata": {},
   "outputs": [],
   "source": [
    "from sklearn.cluster import KMeans\n",
    "from sklearn.cluster import DBSCAN\n",
    "from sklearn.mixture import GaussianMixture\n",
    "from sklearn.model_selection import GridSearchCV\n",
    "\n",
    "sum_of_squared_distances = []\n",
    "K = range(1,30)\n",
    "for k in K:\n",
    "    km = KMeans(n_clusters=k, n_init=10)\n",
    "    km = km.fit(data)\n",
    "    sum_of_squared_distances.append(km.inertia_)\n",
    "\n",
    "plt.plot(K, sum_of_squared_distances, marker='o', linestyle='--')\n",
    "plt.xlabel('k')\n",
    "plt.ylabel('Sum_of_squared_distances')\n",
    "plt.title('Optimal k selection')\n",
    "plt.show()"
   ]
  },
  {
   "cell_type": "code",
   "execution_count": null,
   "metadata": {},
   "outputs": [],
   "source": [
    "def distortion_measure(points: np.ndarray, centroids: np.ndarray) -> float:\n",
    "    distortion = 0\n",
    "    for pt in points.values:\n",
    "        dists = []\n",
    "        for c in centroids:\n",
    "            dists.append(np.sum((pt - c) ** 2) ** 0.5)\n",
    "\n",
    "        distortion += min(dists)\n",
    "    return distortion"
   ]
  },
  {
   "cell_type": "code",
   "execution_count": null,
   "metadata": {},
   "outputs": [],
   "source": [
    "distortion_measure_error = []\n",
    "K = range(1,30)\n",
    "for k in K:\n",
    "    km = KMeans(n_clusters=k, n_init=10)\n",
    "    km = km.fit(data)\n",
    "    score = distortion_measure(data, km.cluster_centers_)\n",
    "    distortion_measure_error.append(score)\n",
    "\n",
    "plt.plot(K, distortion_measure_error, linestyle='--', marker='o')\n",
    "plt.xlabel('k')\n",
    "plt.ylabel('Distortion Measure')\n",
    "plt.title('Optimal k selection')\n",
    "plt.show() "
   ]
  },
  {
   "cell_type": "code",
   "execution_count": null,
   "metadata": {},
   "outputs": [],
   "source": [
    "scaler = StandardScaler()\n",
    "scale_data = scaler.fit_transform(data)\n",
    "scale_data = pd.DataFrame(scale_data, columns=data.columns)\n",
    "scale_data"
   ]
  },
  {
   "cell_type": "code",
   "execution_count": null,
   "metadata": {},
   "outputs": [],
   "source": [
    "sum_of_squared_distances = []\n",
    "K = range(1,30)\n",
    "for k in K:\n",
    "    km = KMeans(n_clusters=k, n_init=10)\n",
    "    km = km.fit(scale_data)\n",
    "    sum_of_squared_distances.append(km.inertia_)\n",
    "\n",
    "plt.plot(K, sum_of_squared_distances, marker='o', linestyle='--')\n",
    "plt.xlabel('k')\n",
    "plt.ylabel('Sum_of_squared_distances')\n",
    "plt.title('Optimal k selection')\n",
    "plt.show()"
   ]
  },
  {
   "cell_type": "code",
   "execution_count": null,
   "metadata": {},
   "outputs": [],
   "source": [
    "distortion_measure_error = []\n",
    "K = range(1,30)\n",
    "for k in K:\n",
    "    km = KMeans(n_clusters=k, n_init=10)\n",
    "    km = km.fit(scale_data)\n",
    "    score = distortion_measure(data, km.cluster_centers_)\n",
    "    distortion_measure_error.append(score)\n",
    "\n",
    "plt.plot(K, distortion_measure_error, linestyle='--', marker='o')\n",
    "plt.xlabel('k')\n",
    "plt.ylabel('Distortion Measure')\n",
    "plt.title('Optimal k selection')\n",
    "plt.show() "
   ]
  }
 ],
 "metadata": {
  "kernelspec": {
   "display_name": "Python 3 (ipykernel)",
   "language": "python",
   "name": "python3"
  },
  "language_info": {
   "codemirror_mode": {
    "name": "ipython",
    "version": 3
   },
   "file_extension": ".py",
   "mimetype": "text/x-python",
   "name": "python",
   "nbconvert_exporter": "python",
   "pygments_lexer": "ipython3",
   "version": "3.9.5"
  }
 },
 "nbformat": 4,
 "nbformat_minor": 2
}
